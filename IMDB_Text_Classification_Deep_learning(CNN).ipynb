{
  "nbformat": 4,
  "nbformat_minor": 0,
  "metadata": {
    "colab": {
      "name": "IMDB Text Classification Deep learning(CNN).ipynb",
      "version": "0.3.2",
      "provenance": [],
      "include_colab_link": true
    },
    "kernelspec": {
      "display_name": "Python 3",
      "language": "python",
      "name": "python3"
    }
  },
  "cells": [
    {
      "cell_type": "markdown",
      "metadata": {
        "id": "view-in-github",
        "colab_type": "text"
      },
      "source": [
        "[View in Colaboratory](https://colab.research.google.com/github/sumitdua10/CNN_Text_Classification_Restaurent_Reviews/blob/master/IMDB_Text_Classification_Deep_learning(CNN).ipynb)"
      ]
    },
    {
      "metadata": {
        "id": "eL2f2N7e9ouH",
        "colab_type": "code",
        "colab": {},
        "outputId": "4b8482ef-8ece-4be1-fc70-f1ee445c3f93"
      },
      "cell_type": "code",
      "source": [
        "import numpy as np # linear algebra\n",
        "import pandas as pd # data processing, CSV file I/O (e.g. pd.read_csv)\n",
        "import os\n",
        "print(os.listdir(\"../input/word2vec-nlp-tutorial\"))"
      ],
      "execution_count": 0,
      "outputs": [
        {
          "output_type": "stream",
          "text": [
            "['testData.tsv', 'sampleSubmission.csv', 'labeledTrainData.tsv', 'unlabeledTrainData.tsv']\n"
          ],
          "name": "stdout"
        }
      ]
    },
    {
      "metadata": {
        "id": "qUac2JSt9ouO",
        "colab_type": "code",
        "colab": {},
        "outputId": "5a800e2e-412e-418e-93c2-0c310bcc7419"
      },
      "cell_type": "code",
      "source": [
        "#Read the IMDB dataset with 25K reviews for training. \n",
        "\n",
        "df = pd.read_csv(\"../input/word2vec-nlp-tutorial/labeledTrainData.tsv\", sep = '\\t', \n",
        "                 error_bad_lines=False )\n",
        "print(\"Total no. of reviews are \", df.shape[0])\n",
        "print(\"cols are \", df.columns)\n",
        "print(\"Sample reviews are \")\n",
        "print(df.loc[:5,['review','sentiment']])\n"
      ],
      "execution_count": 0,
      "outputs": [
        {
          "output_type": "stream",
          "text": [
            "Total no. of reviews are  25000\n",
            "cols are  Index(['id', 'sentiment', 'review'], dtype='object')\n",
            "Sample reviews are \n",
            "                                              review  sentiment\n",
            "0  With all this stuff going down at the moment w...          1\n",
            "1  \\The Classic War of the Worlds\\\" by Timothy Hi...          1\n",
            "2  The film starts with a manager (Nicholas Bell)...          0\n",
            "3  It must be assumed that those who praised this...          0\n",
            "4  Superbly trashy and wondrously unpretentious 8...          1\n",
            "5  I dont know why people think this is such a ba...          1\n"
          ],
          "name": "stdout"
        }
      ]
    },
    {
      "metadata": {
        "id": "gAOsy8LA9ouU",
        "colab_type": "code",
        "colab": {}
      },
      "cell_type": "code",
      "source": [
        "#Import the stopwords (common words) to be removed from the corpus\n",
        "\"\"\"\n",
        "import re\n",
        "import nltk\n",
        "nltk.download('stopwords')\n",
        "from nltk.corpus import stopwords\n",
        "from nltk.stem.porter import PorterStemmer\n",
        "corpus = []\n",
        "s = set(stopwords.words('english'))\n",
        "s.remove('not')\n",
        "print(\"Stopwords length\", len(s))\n",
        "\"\"\""
      ],
      "execution_count": 0,
      "outputs": []
    },
    {
      "metadata": {
        "id": "IkEDzlKS9ouX",
        "colab_type": "code",
        "colab": {}
      },
      "cell_type": "code",
      "source": [
        "# 3. Remove the puncuation symbols or any other symbols that are not characters [^A-Za-z] and put the text in list Corpus\n",
        "#s = set(s)\n",
        "#corpus = []\n",
        "#for i in range(0, df.shape[0]):\n",
        " #   review = re.sub('[^a-zA-Z]', ' ', df['review'][i])\n",
        "  #  review = review.lower().split()\n",
        "    #ps = PorterStemmer()\n",
        "    #review = [ps.stem(word) for word in review if not word in set(stopwords.words('english'))]\n",
        "   # review = [word for word in review if not word in s]\n",
        "    #review = ' '.join(review)\n",
        "    #corpus.append(review)\n",
        "#print(corpus[0])"
      ],
      "execution_count": 0,
      "outputs": []
    },
    {
      "metadata": {
        "id": "uOj5FBbS9ouc",
        "colab_type": "code",
        "colab": {},
        "outputId": "234ee164-5fbe-4d30-f5e4-2204c6c3c28c"
      },
      "cell_type": "code",
      "source": [
        "word2vec = {}\n",
        "with open('../input/glove6b50dtxt/glove.6B.50d.txt', encoding=\"utf8\") as f:\n",
        "  # is just a space-separated text file in the format:\n",
        "  # word vec[0] vec[1] vec[2] ...\n",
        "    for line in f:\n",
        "        values = line.split()\n",
        "        word = values[0]\n",
        "        vec = np.asarray(values[1:], dtype='float32')\n",
        "        word2vec[word] = vec\n",
        "print('Found %s word vectors.' % len(word2vec))\n"
      ],
      "execution_count": 0,
      "outputs": [
        {
          "output_type": "stream",
          "text": [
            "Found 400000 word vectors.\n"
          ],
          "name": "stdout"
        }
      ]
    },
    {
      "metadata": {
        "id": "-Lut7bz09oug",
        "colab_type": "code",
        "colab": {},
        "outputId": "e23d770f-7ddd-4312-b5ad-7848ff55105b"
      },
      "cell_type": "code",
      "source": [
        "from keras.preprocessing.text import Tokenizer, text_to_word_sequence\n",
        "from keras.preprocessing.sequence import pad_sequences\n",
        "MAX_VCOCAB_SIZE = 5000\n",
        "EMBEDDING_DIM = 50\n",
        "MAX_SEQUENCE_LENGTH = 1500\n",
        "\n",
        "tokenizer = Tokenizer( filters='!\"#$%&()*+,-./:;<=>?@[\\]^_`{|}~', lower=True, split=' ')\n",
        "sequences = tokenizer.fit_on_texts(df['review'])\n",
        "word_index = tokenizer.word_index\n",
        "documents = tokenizer.texts_to_sequences(df['review'])\n",
        "#print(word_index)\n",
        "token_count = len(word_index)+1\n",
        "print('Found {} unique tokens.'.format(token_count))\n",
        "\n",
        "#print(t.word_counts)\n",
        "print(\"Total documents \", tokenizer.document_count)\n",
        "#print(t.word_index)\n",
        "#print(t.word_docs)\n",
        "print(\"max sequence length:\", max(len(s) for s in documents))\n",
        "print(\"min sequence length:\", min(len(s) for s in documents))\n",
        "\n",
        "# pad sequences so that we get a N x T matrix\n",
        "data = pad_sequences(documents, maxlen=MAX_SEQUENCE_LENGTH, padding='post')\n",
        "print('Shape of data tensor:', data.shape)\n",
        "print(data[1])\n"
      ],
      "execution_count": 0,
      "outputs": [
        {
          "output_type": "stream",
          "text": [
            "Found 88583 unique tokens.\n",
            "Total documents  25000\n",
            "max sequence length: 2493\n",
            "min sequence length: 10\n",
            "Shape of data tensor: (25000, 1500)\n",
            "[  1 353 322 ...   0   0   0]\n"
          ],
          "name": "stdout"
        }
      ]
    },
    {
      "metadata": {
        "id": "zBx0QqSh9ouj",
        "colab_type": "code",
        "colab": {},
        "outputId": "90c41779-ab79-4ce6-b97b-89680fe95ae8"
      },
      "cell_type": "code",
      "source": [
        "print('Filling pre-trained embeddings...')\n",
        "embedding_matrix = np.zeros((token_count, EMBEDDING_DIM))\n",
        "for word, i in word_index.items():\n",
        "  #if i < MAX_VOCAB_SIZE:\n",
        "    embedding_vector = word2vec.get(word) #get(word) is used instead of [word] as it won't give exception in case word is not found\n",
        "    if embedding_vector is not None:\n",
        "      # words not found in embedding index will be all zeros.\n",
        "      embedding_matrix[i,:] = embedding_vector\n",
        "\n",
        "print(\"Sample embedded dimension \")\n",
        "print(embedding_matrix[10][:5])\n"
      ],
      "execution_count": 0,
      "outputs": [
        {
          "output_type": "stream",
          "text": [
            "Filling pre-trained embeddings...\n",
            "Sample embedded dimension \n",
            "[ 0.11891   0.15255  -0.082073 -0.74144   0.75917 ]\n"
          ],
          "name": "stdout"
        }
      ]
    },
    {
      "metadata": {
        "id": "dKwoOSka9oum",
        "colab_type": "code",
        "colab": {}
      },
      "cell_type": "code",
      "source": [
        "from keras.models import Sequential\n",
        "from keras.layers import Conv1D, MaxPooling1D, Dropout, Dense, GlobalAveragePooling1D \n",
        "from keras.layers import Embedding, Conv2D, GlobalMaxPooling1D \n",
        "from keras import regularizers\n",
        "\n",
        "embedding_layer = Embedding(\n",
        "  token_count,\n",
        "  EMBEDDING_DIM,\n",
        "  weights=[embedding_matrix],\n",
        "  input_length=MAX_SEQUENCE_LENGTH,\n",
        "  trainable=False)"
      ],
      "execution_count": 0,
      "outputs": []
    },
    {
      "metadata": {
        "id": "apoAoXrb9oup",
        "colab_type": "code",
        "colab": {},
        "outputId": "138ac171-d4f7-43f1-cc61-48330d60c489"
      },
      "cell_type": "code",
      "source": [
        "model = Sequential()\n",
        "model.add(embedding_layer)#, input_shape= (token_count, EMBEDDING_DIM))\n",
        "model.add(Conv1D(filters = 64, kernel_size = 4, padding = 'same', activation='relu'))\n",
        "                 #input_shape=(token_count,EMBEDDING_DIM)))\n",
        "model.add(MaxPooling1D())#kernel_size=500))\n",
        "model.add(Conv1D(filters = 128, kernel_size = 3, padding = 'same',  activation='relu', \n",
        "                 kernel_regularizer=regularizers.l2(0.01)))\n",
        "model.add(Dropout(0.25))\n",
        "model.add(MaxPooling1D())\n",
        "model.add(Conv1D(filters = 256, kernel_size = 2, padding = 'same', activation='relu'))\n",
        "model.add(Dropout(0.5))\n",
        "model.add(MaxPooling1D())\n",
        "model.add(Dense(128, activation='relu'))\n",
        "model.add(Dropout(0.25))\n",
        "model.add(Dense(64, activation='relu'))\n",
        "#model.add(Conv1D(128, 3, activation='relu'))\n",
        "model.add(GlobalMaxPooling1D())\n",
        "\n",
        "model.add(Dense(1, activation='sigmoid'))\n",
        "\n",
        "model.compile(loss='binary_crossentropy',optimizer='adam',metrics=['accuracy'])\n",
        "print(model.summary())\n"
      ],
      "execution_count": 0,
      "outputs": [
        {
          "output_type": "stream",
          "text": [
            "_________________________________________________________________\n",
            "Layer (type)                 Output Shape              Param #   \n",
            "=================================================================\n",
            "embedding_25 (Embedding)     (None, 1500, 50)          4429150   \n",
            "_________________________________________________________________\n",
            "conv1d_70 (Conv1D)           (None, 1500, 64)          12864     \n",
            "_________________________________________________________________\n",
            "max_pooling1d_57 (MaxPooling (None, 750, 64)           0         \n",
            "_________________________________________________________________\n",
            "conv1d_71 (Conv1D)           (None, 750, 128)          24704     \n",
            "_________________________________________________________________\n",
            "dropout_45 (Dropout)         (None, 750, 128)          0         \n",
            "_________________________________________________________________\n",
            "max_pooling1d_58 (MaxPooling (None, 375, 128)          0         \n",
            "_________________________________________________________________\n",
            "conv1d_72 (Conv1D)           (None, 375, 256)          65792     \n",
            "_________________________________________________________________\n",
            "dropout_46 (Dropout)         (None, 375, 256)          0         \n",
            "_________________________________________________________________\n",
            "max_pooling1d_59 (MaxPooling (None, 187, 256)          0         \n",
            "_________________________________________________________________\n",
            "dense_53 (Dense)             (None, 187, 128)          32896     \n",
            "_________________________________________________________________\n",
            "dropout_47 (Dropout)         (None, 187, 128)          0         \n",
            "_________________________________________________________________\n",
            "dense_54 (Dense)             (None, 187, 64)           8256      \n",
            "_________________________________________________________________\n",
            "global_max_pooling1d_15 (Glo (None, 64)                0         \n",
            "_________________________________________________________________\n",
            "dense_55 (Dense)             (None, 1)                 65        \n",
            "=================================================================\n",
            "Total params: 4,573,727\n",
            "Trainable params: 144,577\n",
            "Non-trainable params: 4,429,150\n",
            "_________________________________________________________________\n",
            "None\n"
          ],
          "name": "stdout"
        }
      ]
    },
    {
      "metadata": {
        "id": "n7o56sz69ous",
        "colab_type": "code",
        "colab": {},
        "outputId": "87989553-e25a-4fd4-fc6c-ecf3510c3199"
      },
      "cell_type": "code",
      "source": [
        "from keras.layers import Input, Dense, Concatenate\n",
        "from keras.models import Model\n",
        "\n",
        "inputs = Input(shape=(MAX_SEQUENCE_LENGTH,))\n",
        "\n",
        "x = embedding_layer(inputs)\n",
        "print(x)\n",
        "x1 = Conv1D(filters = 100, kernel_size = 2, padding = 'same', activation='relu')(x)\n",
        "                 #input_shape=(token_count,EMBEDDING_DIM)))\n",
        "x1 = GlobalMaxPooling1D()(x1)\n",
        "\n",
        "x2 = Conv1D(filters = 100, kernel_size = 3, padding = 'same', activation='relu')(x)\n",
        "                 #input_shape=(token_count,EMBEDDING_DIM)))\n",
        "x2 = GlobalMaxPooling1D()(x2) #pool_size=1500\n",
        "\n",
        "\n",
        "x3 = Conv1D(filters = 100, kernel_size = 4, padding = 'same', activation='relu')(x)\n",
        "                 #input_shape=(token_count,EMBEDDING_DIM)))\n",
        "x3 = GlobalMaxPooling1D()(x3)\n",
        "\n",
        "# a layer instance is callable on a tensor, and returns a tensor\n",
        "print(x3)\n",
        "x = Concatenate()([x1,x2,x3])\n",
        "print(x)\n",
        "x = Dense(256)(x)\n",
        "x = Dropout(0.25)(x)\n",
        "x = Dense(128, activation='relu')(x)\n",
        "output = Dense(1, activation='sigmoid')(x)\n",
        "\n",
        "# This creates a model that includes\n",
        "# the Input layer and three Dense layers\n",
        "Fmodel = Model(inputs=inputs, outputs=output)\n",
        "Fmodel.compile(optimizer='adam',\n",
        "              loss='binary_crossentropy',\n",
        "              metrics=['accuracy'])\n",
        "print(Fmodel.summary())\n"
      ],
      "execution_count": 0,
      "outputs": [
        {
          "output_type": "stream",
          "text": [
            "Tensor(\"embedding_25_3/embedding_lookup/Identity:0\", shape=(?, 1500, 50), dtype=float32)\n",
            "Tensor(\"global_max_pooling1d_21/Max:0\", shape=(?, 100), dtype=float32)\n",
            "Tensor(\"concatenate_7/concat:0\", shape=(?, 300), dtype=float32)\n",
            "__________________________________________________________________________________________________\n",
            "Layer (type)                    Output Shape         Param #     Connected to                     \n",
            "==================================================================================================\n",
            "input_16 (InputLayer)           (None, 1500)         0                                            \n",
            "__________________________________________________________________________________________________\n",
            "embedding_25 (Embedding)        (None, 1500, 50)     4429150     input_16[0][0]                   \n",
            "__________________________________________________________________________________________________\n",
            "conv1d_76 (Conv1D)              (None, 1500, 100)    10100       embedding_25[3][0]               \n",
            "__________________________________________________________________________________________________\n",
            "conv1d_77 (Conv1D)              (None, 1500, 100)    15100       embedding_25[3][0]               \n",
            "__________________________________________________________________________________________________\n",
            "conv1d_78 (Conv1D)              (None, 1500, 100)    20100       embedding_25[3][0]               \n",
            "__________________________________________________________________________________________________\n",
            "global_max_pooling1d_19 (Global (None, 100)          0           conv1d_76[0][0]                  \n",
            "__________________________________________________________________________________________________\n",
            "global_max_pooling1d_20 (Global (None, 100)          0           conv1d_77[0][0]                  \n",
            "__________________________________________________________________________________________________\n",
            "global_max_pooling1d_21 (Global (None, 100)          0           conv1d_78[0][0]                  \n",
            "__________________________________________________________________________________________________\n",
            "concatenate_7 (Concatenate)     (None, 300)          0           global_max_pooling1d_19[0][0]    \n",
            "                                                                 global_max_pooling1d_20[0][0]    \n",
            "                                                                 global_max_pooling1d_21[0][0]    \n",
            "__________________________________________________________________________________________________\n",
            "dense_59 (Dense)                (None, 256)          77056       concatenate_7[0][0]              \n",
            "__________________________________________________________________________________________________\n",
            "dropout_49 (Dropout)            (None, 256)          0           dense_59[0][0]                   \n",
            "__________________________________________________________________________________________________\n",
            "dense_60 (Dense)                (None, 128)          32896       dropout_49[0][0]                 \n",
            "__________________________________________________________________________________________________\n",
            "dense_61 (Dense)                (None, 1)            129         dense_60[0][0]                   \n",
            "==================================================================================================\n",
            "Total params: 4,584,531\n",
            "Trainable params: 155,381\n",
            "Non-trainable params: 4,429,150\n",
            "__________________________________________________________________________________________________\n",
            "None\n"
          ],
          "name": "stdout"
        }
      ]
    },
    {
      "metadata": {
        "id": "61jdlKx89oux",
        "colab_type": "code",
        "colab": {},
        "outputId": "efcc78d3-6f94-4dda-850c-8fef884abb87"
      },
      "cell_type": "code",
      "source": [
        "from sklearn.model_selection import train_test_split\n",
        "x_train, x_test, y_train, y_test = train_test_split(data, df['sentiment'], \n",
        "                                                    test_size=0.2, random_state=42)\n",
        "\n",
        "\n",
        "print(x_train.shape)\n",
        "model.fit(x_train, y_train , batch_size=96, epochs=2, validation_split = 0.25)\n",
        "#score = model.evaluate(x_test, y_test, batch_size=32)"
      ],
      "execution_count": 0,
      "outputs": [
        {
          "output_type": "stream",
          "text": [
            "(20000, 1500)\n",
            "Train on 15000 samples, validate on 5000 samples\n",
            "Epoch 1/2\n",
            "15000/15000 [==============================] - 14s 931us/step - loss: 0.6473 - acc: 0.6201 - val_loss: 0.6131 - val_acc: 0.6878\n",
            "Epoch 2/2\n",
            "15000/15000 [==============================] - 13s 836us/step - loss: 0.4194 - acc: 0.8077 - val_loss: 0.3806 - val_acc: 0.8322\n"
          ],
          "name": "stdout"
        },
        {
          "output_type": "execute_result",
          "data": {
            "text/plain": [
              "<keras.callbacks.History at 0x7f142107e2e8>"
            ]
          },
          "metadata": {
            "tags": []
          },
          "execution_count": 93
        }
      ]
    },
    {
      "metadata": {
        "id": "JzdJAgwX9ou2",
        "colab_type": "code",
        "colab": {}
      },
      "cell_type": "code",
      "source": [
        "Fmodel.fit(x_train, y_train , batch_size=96, epochs=2, validation_split = 0.25)"
      ],
      "execution_count": 0,
      "outputs": []
    },
    {
      "metadata": {
        "id": "v2FelhRc9ou4",
        "colab_type": "code",
        "colab": {},
        "outputId": "9939d2de-3369-44f7-8bfd-45f51d10f082"
      },
      "cell_type": "code",
      "source": [
        "print(\"Concatenated CNN Result\")\n",
        "print(\"Loss & accuracty on test set is\", Fmodel.evaluate(x_test, y_test))\n",
        "\n",
        "print(\"Traditional CNN Result\")\n",
        "print(\"Loss & accuracty on test set is\", model.evaluate(x_test, y_test))"
      ],
      "execution_count": 0,
      "outputs": [
        {
          "output_type": "stream",
          "text": [
            "Concatenated CNN Result\n",
            " 288/5000 [>.............................] - ETA: 2s"
          ],
          "name": "stdout"
        }
      ]
    },
    {
      "metadata": {
        "id": "q1p6h4kJ9ou9",
        "colab_type": "code",
        "colab": {}
      },
      "cell_type": "code",
      "source": [
        ""
      ],
      "execution_count": 0,
      "outputs": []
    }
  ]
}